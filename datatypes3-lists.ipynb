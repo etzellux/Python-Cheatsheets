{
 "cells": [
  {
   "cell_type": "markdown",
   "metadata": {},
   "source": [
    "### LISTS"
   ]
  },
  {
   "cell_type": "code",
   "execution_count": 97,
   "metadata": {},
   "outputs": [
    {
     "name": "stdout",
     "output_type": "stream",
     "text": [
      "[1, 2, 5, 7, 9, 'c', 'String']\n"
     ]
    }
   ],
   "source": [
    "list1 = [1,2,5,7,9,'c',\"String\"]\n",
    "\n",
    "print(list1)"
   ]
  },
  {
   "cell_type": "code",
   "execution_count": 98,
   "metadata": {},
   "outputs": [
    {
     "name": "stdout",
     "output_type": "stream",
     "text": [
      "[1, 2, 5, 22, 'c++']\n"
     ]
    }
   ],
   "source": [
    "list2 = list((1,2,5,22,\"c++\"))\n",
    "\n",
    "print(list2)"
   ]
  },
  {
   "cell_type": "code",
   "execution_count": 99,
   "metadata": {},
   "outputs": [
    {
     "name": "stdout",
     "output_type": "stream",
     "text": [
      "['h', 'e', 'l', 'l', 'o', ' ', 'w', 'o', 'r', 'l', 'd', '!']\n"
     ]
    }
   ],
   "source": [
    "string1 = \"hello world!\"\n",
    "list3 = list(string1)\n",
    "\n",
    "print(list3)"
   ]
  },
  {
   "cell_type": "code",
   "execution_count": 100,
   "metadata": {},
   "outputs": [
    {
     "name": "stdout",
     "output_type": "stream",
     "text": [
      "[1, 2, 5, 7, 9, 'c', 'String']\n",
      "[1, 2, 5, 22, 'c++']\n",
      "['h', 'e', 'l', 'l', 'o', ' ', 'w', 'o', 'r', 'l', 'd', '!']\n"
     ]
    }
   ],
   "source": [
    "print(list1)\n",
    "print(list2)\n",
    "print(list3)"
   ]
  },
  {
   "cell_type": "code",
   "execution_count": 101,
   "metadata": {},
   "outputs": [
    {
     "name": "stdout",
     "output_type": "stream",
     "text": [
      "list2[4]: c++\n",
      "list1[0:5]: [1, 2, 5, 7, 9]\n"
     ]
    }
   ],
   "source": [
    "print(\"list2[4]: \" + list2[4])\n",
    "\n",
    "print(\"list1[0:5]: \",end=\"\")\n",
    "print(list1[0:5])"
   ]
  },
  {
   "cell_type": "code",
   "execution_count": 102,
   "metadata": {},
   "outputs": [
    {
     "name": "stdout",
     "output_type": "stream",
     "text": [
      "Before: [1, 2, 5, 7, 9, 'c', 'String']\n",
      "After: [1, 2, 'python', 7, 9, 'c', 'String']\n"
     ]
    }
   ],
   "source": [
    "print(\"Before: \",end=\"\")\n",
    "print(list1)\n",
    "\n",
    "list1[2] = \"python\"\n",
    "\n",
    "print(\"After: \",end=\"\")\n",
    "print(list1)"
   ]
  },
  {
   "cell_type": "code",
   "execution_count": 103,
   "metadata": {},
   "outputs": [
    {
     "name": "stdout",
     "output_type": "stream",
     "text": [
      "Before: \n",
      "[1, 2, 'python', 7, 9, 'c', 'String']\n",
      "\n",
      "After list1[2] deleted: \n",
      "[1, 2, 7, 9, 'c', 'String']\n"
     ]
    }
   ],
   "source": [
    "print(\"Before: \")\n",
    "print(list1)\n",
    "\n",
    "del list1[2]\n",
    "\n",
    "print(\"\\nAfter list1[2] deleted: \")\n",
    "print(list1)"
   ]
  },
  {
   "cell_type": "code",
   "execution_count": 104,
   "metadata": {},
   "outputs": [
    {
     "name": "stdout",
     "output_type": "stream",
     "text": [
      "list1,list2 and list3 are deleted\n"
     ]
    }
   ],
   "source": [
    "del list1,list2,list3\n",
    "print(\"list1,list2 and list3 are deleted\")"
   ]
  },
  {
   "cell_type": "markdown",
   "metadata": {},
   "source": [
    "#### **BASIC LIST OPERATIONS**"
   ]
  },
  {
   "cell_type": "code",
   "execution_count": 105,
   "metadata": {},
   "outputs": [
    {
     "name": "stdout",
     "output_type": "stream",
     "text": [
      "list1 = ['python', 'c++', 'c', 1, 2, 3]\n"
     ]
    }
   ],
   "source": [
    "list1 = [\"python\",\"c++\",\"c\",1,2,3]\n",
    "print(\"list1 = \",end=\"\")\n",
    "print(list1)"
   ]
  },
  {
   "cell_type": "code",
   "execution_count": 106,
   "metadata": {},
   "outputs": [
    {
     "name": "stdout",
     "output_type": "stream",
     "text": [
      "list1 + [4,5,6] = ['python', 'c++', 'c', 1, 2, 3, 4, 5, 6]\n"
     ]
    }
   ],
   "source": [
    "list2 = list1 + [4,5,6]\n",
    "\n",
    "print(\"list1 + [4,5,6] = \",end=\"\")\n",
    "print(list2)"
   ]
  },
  {
   "cell_type": "code",
   "execution_count": 107,
   "metadata": {},
   "outputs": [
    {
     "name": "stdout",
     "output_type": "stream",
     "text": [
      "list1 * 3 = ['python', 'c++', 'c', 1, 2, 3, 'python', 'c++', 'c', 1, 2, 3, 'python', 'c++', 'c', 1, 2, 3]\n"
     ]
    }
   ],
   "source": [
    "list3 = list1 * 3\n",
    "print(\"list1 * 3 = \",end=\"\")\n",
    "print(list3)"
   ]
  },
  {
   "cell_type": "code",
   "execution_count": 108,
   "metadata": {},
   "outputs": [
    {
     "name": "stdout",
     "output_type": "stream",
     "text": [
      "python in list1 = True\n"
     ]
    }
   ],
   "source": [
    "bool1 = \"python\" in list1\n",
    "\n",
    "print(r\"python\" + \" in list1 = \",end=\"\")\n",
    "print(bool1)"
   ]
  },
  {
   "cell_type": "code",
   "execution_count": 109,
   "metadata": {},
   "outputs": [
    {
     "name": "stdout",
     "output_type": "stream",
     "text": [
      "123"
     ]
    }
   ],
   "source": [
    "for x in [1,2,3]:\n",
    "    print(x,end=\"\")"
   ]
  },
  {
   "cell_type": "markdown",
   "metadata": {},
   "source": [
    "#### **BUILT-IN LIST METHODS AND FUNCTIONS**"
   ]
  },
  {
   "cell_type": "code",
   "execution_count": 110,
   "metadata": {},
   "outputs": [
    {
     "name": "stdout",
     "output_type": "stream",
     "text": [
      "list1 = ['python', 'c++', 'c', 1, 2, 3]\n"
     ]
    }
   ],
   "source": [
    "print(\"list1 = \",end=\"\")\n",
    "print(list1)"
   ]
  },
  {
   "cell_type": "code",
   "execution_count": 111,
   "metadata": {},
   "outputs": [
    {
     "name": "stdout",
     "output_type": "stream",
     "text": [
      "len(list1) =  6\n"
     ]
    }
   ],
   "source": [
    "print(\"len(list1) =  \",end=\"\")\n",
    "print(len(list1))"
   ]
  },
  {
   "cell_type": "code",
   "execution_count": 112,
   "metadata": {},
   "outputs": [
    {
     "name": "stdout",
     "output_type": "stream",
     "text": [
      "max([1,2,3,22,67,96,69]) = 96\n"
     ]
    }
   ],
   "source": [
    "print(r\"max([1,2,3,22,67,96,69]) = \",end=\"\")\n",
    "print(max([1,2,3,22,67,96,69]))"
   ]
  },
  {
   "cell_type": "code",
   "execution_count": 113,
   "metadata": {},
   "outputs": [
    {
     "name": "stdout",
     "output_type": "stream",
     "text": [
      "min([1,2,3,22,67,96,69]) = 1\n"
     ]
    }
   ],
   "source": [
    "print(r\"min([1,2,3,22,67,96,69]) = \",end=\"\")\n",
    "print(min([1,2,3,22,67,96,69]))"
   ]
  },
  {
   "cell_type": "markdown",
   "metadata": {},
   "source": [
    "#### Methods"
   ]
  },
  {
   "cell_type": "code",
   "execution_count": 114,
   "metadata": {},
   "outputs": [
    {
     "name": "stdout",
     "output_type": "stream",
     "text": [
      "list1 = ['python', 'c++', 'c', 1, 2, 3]\n"
     ]
    }
   ],
   "source": [
    "print(\"list1 = \",end=\"\")\n",
    "print(list1)"
   ]
  },
  {
   "cell_type": "markdown",
   "metadata": {},
   "source": [
    "- .append(obj)"
   ]
  },
  {
   "cell_type": "code",
   "execution_count": 115,
   "metadata": {},
   "outputs": [
    {
     "name": "stdout",
     "output_type": "stream",
     "text": [
      "after 4 appended to list1:\n",
      "['python', 'c++', 'c', 1, 2, 3, 4]\n"
     ]
    }
   ],
   "source": [
    "print(\"after 4 appended to list1:\")\n",
    "\n",
    "list1.append(4)\n",
    "\n",
    "print(list1)"
   ]
  },
  {
   "cell_type": "markdown",
   "metadata": {},
   "source": [
    "- .count(obj)"
   ]
  },
  {
   "cell_type": "code",
   "execution_count": 116,
   "metadata": {},
   "outputs": [
    {
     "name": "stdout",
     "output_type": "stream",
     "text": [
      "how many times 'c++' occurs in list1 =1\n"
     ]
    }
   ],
   "source": [
    "print(\"how many times 'c++' occurs in list1 =\",end=\"\")\n",
    "\n",
    "print(list1.count(\"c++\"))"
   ]
  },
  {
   "cell_type": "markdown",
   "metadata": {},
   "source": [
    "- .extend(seq)"
   ]
  },
  {
   "cell_type": "code",
   "execution_count": 117,
   "metadata": {},
   "outputs": [
    {
     "name": "stdout",
     "output_type": "stream",
     "text": [
      "Before: ['python', 'c++', 'c', 1, 2, 3, 4]\n",
      "After: ['python', 'c++', 'c', 1, 2, 3, 4, 5, 6, 7]\n"
     ]
    }
   ],
   "source": [
    "print(\"Before: \",end=\"\")\n",
    "print(list1)\n",
    "\n",
    "list1.extend((5,6,7))\n",
    "\n",
    "print(\"After: \",end=\"\")\n",
    "print(list1)"
   ]
  },
  {
   "cell_type": "markdown",
   "metadata": {},
   "source": [
    "- .index(obj)"
   ]
  },
  {
   "cell_type": "code",
   "execution_count": 118,
   "metadata": {},
   "outputs": [
    {
     "name": "stdout",
     "output_type": "stream",
     "text": [
      "item 2's index is 4\n"
     ]
    }
   ],
   "source": [
    "print(\"item 2's index is \",end=\"\")\n",
    "print(list1.index(2))"
   ]
  },
  {
   "cell_type": "markdown",
   "metadata": {},
   "source": [
    "- .insert(index,obj)"
   ]
  },
  {
   "cell_type": "code",
   "execution_count": 119,
   "metadata": {},
   "outputs": [
    {
     "name": "stdout",
     "output_type": "stream",
     "text": [
      "list1 = ['python', 'c++', 'c', 1, 2, 3, 4, 5, 6, 7]\n",
      "\n",
      "After 'OOP' inserted to index 2:\n",
      "list1 = ['python', 'c++', 'OOP', 'c', 1, 2, 3, 4, 5, 6, 7] \n",
      "\n",
      "new list1[2] is: OOP\n"
     ]
    }
   ],
   "source": [
    "print(\"list1 = \",end=\"\")\n",
    "print(list1) \n",
    "\n",
    "list1.insert(2,\"OOP\")\n",
    "\n",
    "print(\"\\nAfter 'OOP' inserted to index 2:\")\n",
    "print(\"list1 = \",end=\"\")\n",
    "print(list1,\"\\n\")\n",
    "\n",
    "print(\"new list1[2] is: \",end=\"\")\n",
    "print(list1[2])"
   ]
  },
  {
   "cell_type": "markdown",
   "metadata": {},
   "source": [
    "- .pop(obj=list[-1]) : removes last item in the list and returns it"
   ]
  },
  {
   "cell_type": "code",
   "execution_count": 120,
   "metadata": {},
   "outputs": [
    {
     "name": "stdout",
     "output_type": "stream",
     "text": [
      "list1 = ['python', 'c++', 'OOP', 'c', 1, 2, 3, 4, 5, 6, 7]\n",
      "Last item is removed\n",
      "\n",
      "Removed last item:7\n",
      "\n",
      "list1 = ['python', 'c++', 'OOP', 'c', 1, 2, 3, 4, 5, 6]\n"
     ]
    }
   ],
   "source": [
    "print(\"list1 = \",end=\"\")\n",
    "print(list1)\n",
    "\n",
    "obj1 = list1.pop()\n",
    "\n",
    "print(\"Last item is removed\\n\")\n",
    "\n",
    "print(\"Removed last item:\",end=\"\")\n",
    "print(obj1)\n",
    "\n",
    "print(\"\\nlist1 = \",end=\"\")\n",
    "print(list1)"
   ]
  },
  {
   "cell_type": "markdown",
   "metadata": {},
   "source": [
    "- .remove(obj)"
   ]
  },
  {
   "cell_type": "code",
   "execution_count": 121,
   "metadata": {},
   "outputs": [
    {
     "name": "stdout",
     "output_type": "stream",
     "text": [
      "list1 = ['python', 'c++', 'OOP', 'c', 1, 2, 3, 4, 5, 6]\n",
      "item 'c' is removed\n",
      "\n",
      "list1 = ['python', 'c++', 'OOP', 1, 2, 3, 4, 5, 6]\n"
     ]
    }
   ],
   "source": [
    "print(\"list1 = \",end=\"\")\n",
    "print(list1)\n",
    "\n",
    "list1.remove(\"c\")\n",
    "\n",
    "print(\"item 'c' is removed\")\n",
    "\n",
    "print(\"\\nlist1 = \",end=\"\")\n",
    "print(list1)"
   ]
  },
  {
   "cell_type": "markdown",
   "metadata": {},
   "source": [
    "- .reverse()"
   ]
  },
  {
   "cell_type": "code",
   "execution_count": 122,
   "metadata": {},
   "outputs": [
    {
     "name": "stdout",
     "output_type": "stream",
     "text": [
      "list1 = ['python', 'c++', 'OOP', 1, 2, 3, 4, 5, 6]\n",
      "\n",
      "reverse list1 = [6, 5, 4, 3, 2, 1, 'OOP', 'c++', 'python']\n"
     ]
    }
   ],
   "source": [
    "print(\"list1 = \",end=\"\")\n",
    "print(list1)\n",
    "\n",
    "list1.reverse()\n",
    "\n",
    "print(\"\\nreverse list1 = \",end=\"\")\n",
    "print(list1)"
   ]
  },
  {
   "cell_type": "markdown",
   "metadata": {},
   "source": [
    "- .sort(func)"
   ]
  },
  {
   "cell_type": "code",
   "execution_count": 123,
   "metadata": {},
   "outputs": [
    {
     "name": "stdout",
     "output_type": "stream",
     "text": [
      "list2 = [22, 32, 11, 78, 1, 2, 8, 222]\n",
      "\n",
      "list2 is sorted\n",
      "\n",
      "list2 = [1, 2, 8, 11, 22, 32, 78, 222]\n"
     ]
    }
   ],
   "source": [
    "list2 = [22,32,11,78,1,2,8,222]\n",
    "\n",
    "print(\"list2 = \",end=\"\")\n",
    "print(list2)\n",
    "\n",
    "list2.sort()\n",
    "\n",
    "print(\"\\nlist2 is sorted\\n\")\n",
    "\n",
    "print(\"list2 = \",end=\"\")\n",
    "print(list2)"
   ]
  },
  {
   "cell_type": "code",
   "execution_count": null,
   "metadata": {},
   "outputs": [],
   "source": []
  }
 ],
 "metadata": {
  "kernelspec": {
   "display_name": "Python 3",
   "language": "python",
   "name": "python3"
  },
  "language_info": {
   "codemirror_mode": {
    "name": "ipython",
    "version": 3
   },
   "file_extension": ".py",
   "mimetype": "text/x-python",
   "name": "python",
   "nbconvert_exporter": "python",
   "pygments_lexer": "ipython3",
   "version": "3.8.3"
  }
 },
 "nbformat": 4,
 "nbformat_minor": 4
}
