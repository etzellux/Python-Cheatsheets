{
 "cells": [
  {
   "cell_type": "markdown",
   "metadata": {},
   "source": [
    "### DATA-TYPES"
   ]
  },
  {
   "cell_type": "code",
   "execution_count": 2,
   "metadata": {},
   "outputs": [],
   "source": [
    "import numpy as np"
   ]
  },
  {
   "cell_type": "markdown",
   "metadata": {},
   "source": [
    "- bool_ :\n",
    "Boolean (True or False) stored as a byte\n",
    "\t\n",
    "- int_ :\n",
    "Default integer type (same as C long; normally either int64 or int32)\n",
    "\t\n",
    "- intc :\n",
    "Identical to C int (normally int32 or int64)\n",
    "\t\n",
    "- intp :\n",
    "Integer used for indexing (same as C ssize_t; normally either int32 or int64)\n",
    "\n",
    "- int8 :\n",
    "Byte (-128 to 127)\n",
    "\n",
    "\t\n",
    "- int16 :\n",
    "Integer (-32768 to 32767)\n",
    "\n",
    "\t\n",
    "- int32 :\n",
    "Integer (-2147483648 to 2147483647)\n",
    "\n",
    "\t\n",
    "- int64 :\n",
    "Integer (-9223372036854775808 to 9223372036854775807)\n",
    "\t\n",
    "- uint8 :\n",
    "Unsigned integer (0 to 255)\n",
    "\t\n",
    "- uint16 :\n",
    "Unsigned integer (0 to 65535)\n",
    "\t\n",
    "- uint32 :\n",
    "Unsigned integer (0 to 4294967295)\n",
    "\t\n",
    "- uint64 :\n",
    "Unsigned integer (0 to 18446744073709551615)\n",
    "\t\n",
    "- float_ :\n",
    "Shorthand for float64\n",
    "\t\n",
    "- float16 :\n",
    "Half precision float: sign bit, 5 bits exponent, 10 bits mantissa\n",
    "\t\n",
    "- float32 :\n",
    "Single precision float: sign bit, 8 bits exponent, 23 bits mantissa\n",
    "\t\n",
    "- float64 :\n",
    "Double precision float: sign bit, 11 bits exponent, 52 bits mantissa\n",
    "\t\n",
    "- complex_ :\n",
    "Shorthand for complex128\n",
    "\t\n",
    "- complex64 :\n",
    "Complex number, represented by two 32-bit floats (real and imaginary components)\n",
    "\t \n",
    "- complex128 :\n",
    "Complex number, represented by two 64-bit floats (real and imaginary components)"
   ]
  },
  {
   "cell_type": "markdown",
   "metadata": {},
   "source": [
    "#### Built-in types\n",
    "\n",
    "'b' : boolean\n",
    "\n",
    "'i' : (signed) integer\n",
    "\n",
    "'u' : unsigned integer\n",
    "\n",
    "'f' : floating-point\n",
    "\n",
    "'c' : complex-floating point\n",
    "\n",
    "'m' : timedelta\n",
    "\n",
    "'M' : datetime\n",
    "\n",
    "'O' : (Python) objects\n",
    "\n",
    "'S', 'a' : (byte-)string\n",
    "\n",
    "'U' : Unicode\n",
    "\n",
    "'V' : raw data (void)"
   ]
  },
  {
   "cell_type": "code",
   "execution_count": 33,
   "metadata": {},
   "outputs": [
    {
     "name": "stdout",
     "output_type": "stream",
     "text": [
      "[('name', '<U32'), ('age', '<i4')]\n"
     ]
    }
   ],
   "source": [
    "dt = np.dtype([(\"name\",\"U32\"),(\"age\",\"i4\")])\n",
    "print(dt)"
   ]
  },
  {
   "cell_type": "code",
   "execution_count": 34,
   "metadata": {},
   "outputs": [
    {
     "name": "stdout",
     "output_type": "stream",
     "text": [
      "[('John', 27) ('George', 22) ('Jessica', 21)]\n"
     ]
    }
   ],
   "source": [
    "array = np.array([(\"John\",27),(\"George\",22),(\"Jessica\",21)],dtype = dt)\n",
    "print(array)"
   ]
  },
  {
   "cell_type": "code",
   "execution_count": 35,
   "metadata": {},
   "outputs": [
    {
     "name": "stdout",
     "output_type": "stream",
     "text": [
      "['John' 'George' 'Jessica']\n"
     ]
    }
   ],
   "source": [
    "print(array[\"name\"])"
   ]
  }
 ],
 "metadata": {
  "kernelspec": {
   "display_name": "Python 3",
   "language": "python",
   "name": "python3"
  },
  "language_info": {
   "codemirror_mode": {
    "name": "ipython",
    "version": 3
   },
   "file_extension": ".py",
   "mimetype": "text/x-python",
   "name": "python",
   "nbconvert_exporter": "python",
   "pygments_lexer": "ipython3",
   "version": "3.8.3"
  }
 },
 "nbformat": 4,
 "nbformat_minor": 4
}
