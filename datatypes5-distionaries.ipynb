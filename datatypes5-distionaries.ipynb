{
 "cells": [
  {
   "cell_type": "markdown",
   "metadata": {},
   "source": [
    "### DICTIONARIES"
   ]
  },
  {
   "cell_type": "code",
   "execution_count": 100,
   "metadata": {},
   "outputs": [],
   "source": [
    "dict1 = {\"Title\":\"1984\",\"pagesize\":229}"
   ]
  },
  {
   "cell_type": "code",
   "execution_count": 101,
   "metadata": {},
   "outputs": [
    {
     "name": "stdout",
     "output_type": "stream",
     "text": [
      "{'Title': '1984', 'pagesize': 229}\n"
     ]
    }
   ],
   "source": [
    "print(dict1)"
   ]
  },
  {
   "cell_type": "code",
   "execution_count": 102,
   "metadata": {},
   "outputs": [
    {
     "name": "stdout",
     "output_type": "stream",
     "text": [
      "dict1['Title']: 1984\n"
     ]
    }
   ],
   "source": [
    "print(\"dict1['Title']:\",dict1[\"Title\"])"
   ]
  },
  {
   "cell_type": "markdown",
   "metadata": {},
   "source": [
    "- Adding new element"
   ]
  },
  {
   "cell_type": "code",
   "execution_count": 103,
   "metadata": {},
   "outputs": [
    {
     "name": "stdout",
     "output_type": "stream",
     "text": [
      "Before:\n",
      " {'Title': '1984', 'pagesize': 229}\n",
      "After:\n",
      " {'Title': '1984', 'pagesize': 229, 'Author': 'George Orwell'}\n"
     ]
    }
   ],
   "source": [
    "print(\"Before:\\n\",dict1)\n",
    "\n",
    "dict1[\"Author\"] = \"George Orwell\"\n",
    "\n",
    "print(\"After:\\n\",dict1)"
   ]
  },
  {
   "cell_type": "markdown",
   "metadata": {},
   "source": [
    "- Updating elements"
   ]
  },
  {
   "cell_type": "code",
   "execution_count": 104,
   "metadata": {},
   "outputs": [
    {
     "name": "stdout",
     "output_type": "stream",
     "text": [
      "{'Title': 'White Nights', 'pagesize': 250, 'Author': 'Dostoyevski'}\n"
     ]
    }
   ],
   "source": [
    "dict1[\"Title\"] = \"White Nights\"\n",
    "dict1[\"Author\"] = \"Dostoyevski\"\n",
    "dict1[\"pagesize\"] = 250\n",
    "print(dict1)"
   ]
  },
  {
   "cell_type": "code",
   "execution_count": 105,
   "metadata": {},
   "outputs": [
    {
     "name": "stdout",
     "output_type": "stream",
     "text": [
      "dict1['pagesize'] deleted\n"
     ]
    }
   ],
   "source": [
    "del dict1[\"pagesize\"]\n",
    "\n",
    "print(\"dict1['pagesize'] deleted\")"
   ]
  },
  {
   "cell_type": "code",
   "execution_count": 106,
   "metadata": {},
   "outputs": [],
   "source": [
    "del dict1"
   ]
  },
  {
   "cell_type": "markdown",
   "metadata": {},
   "source": [
    "#### BUILT-IN FUNCTIONS"
   ]
  },
  {
   "cell_type": "code",
   "execution_count": 107,
   "metadata": {},
   "outputs": [],
   "source": [
    "dict1 = {\"Title\":\"1984\",\"pagesize\":229}"
   ]
  },
  {
   "cell_type": "markdown",
   "metadata": {},
   "source": [
    "- len(seq)"
   ]
  },
  {
   "cell_type": "code",
   "execution_count": 108,
   "metadata": {},
   "outputs": [
    {
     "name": "stdout",
     "output_type": "stream",
     "text": [
      "len(dict1): 2\n"
     ]
    }
   ],
   "source": [
    "x = len(dict1)\n",
    "print(\"len(dict1):\",x)"
   ]
  },
  {
   "cell_type": "markdown",
   "metadata": {},
   "source": [
    "- str(dict)"
   ]
  },
  {
   "cell_type": "code",
   "execution_count": 109,
   "metadata": {},
   "outputs": [
    {
     "name": "stdout",
     "output_type": "stream",
     "text": [
      "{'Title': '1984', 'pagesize': 229}\n"
     ]
    }
   ],
   "source": [
    "y = str(dict1)\n",
    "print(y)"
   ]
  },
  {
   "cell_type": "markdown",
   "metadata": {},
   "source": [
    "- type(obj)"
   ]
  },
  {
   "cell_type": "code",
   "execution_count": 110,
   "metadata": {},
   "outputs": [
    {
     "name": "stdout",
     "output_type": "stream",
     "text": [
      "<class 'dict'>\n"
     ]
    }
   ],
   "source": [
    "y = type(dict1)\n",
    "print(y)"
   ]
  },
  {
   "cell_type": "code",
   "execution_count": 111,
   "metadata": {},
   "outputs": [
    {
     "name": "stdout",
     "output_type": "stream",
     "text": [
      "<class 'str'>\n"
     ]
    }
   ],
   "source": [
    "y = type(dict1[\"Title\"])\n",
    "print(y)"
   ]
  },
  {
   "cell_type": "markdown",
   "metadata": {},
   "source": [
    "#### METHODS"
   ]
  },
  {
   "cell_type": "markdown",
   "metadata": {},
   "source": [
    "- .clear()"
   ]
  },
  {
   "cell_type": "code",
   "execution_count": 112,
   "metadata": {},
   "outputs": [
    {
     "name": "stdout",
     "output_type": "stream",
     "text": [
      "dict1 =  {'Title': '1984', 'pagesize': 229}\n",
      "dict1 is clear\n",
      "dict1 =  {}\n"
     ]
    }
   ],
   "source": [
    "print(\"dict1 = \",dict1)\n",
    "\n",
    "dict1.clear()\n",
    "\n",
    "print(\"dict1 is clear\")\n",
    "\n",
    "print(\"dict1 = \",dict1)"
   ]
  },
  {
   "cell_type": "markdown",
   "metadata": {},
   "source": [
    "- .copy() : returns a shallow copy"
   ]
  },
  {
   "cell_type": "code",
   "execution_count": 113,
   "metadata": {},
   "outputs": [
    {
     "name": "stdout",
     "output_type": "stream",
     "text": [
      "dict1 =  {'Title': '1984', 'pagesize': 229}\n",
      "dict2 =  {'Title': '1984', 'pagesize': 229}\n"
     ]
    }
   ],
   "source": [
    "dict1 = {\"Title\":\"1984\",\"pagesize\":229}\n",
    "\n",
    "dict2 = dict1.copy()\n",
    "\n",
    "print(\"dict1 = \",dict1)\n",
    "\n",
    "print(\"dict2 = \",dict2)"
   ]
  },
  {
   "cell_type": "markdown",
   "metadata": {},
   "source": [
    "- .fromkeys(seq,value)"
   ]
  },
  {
   "cell_type": "code",
   "execution_count": 114,
   "metadata": {},
   "outputs": [
    {
     "name": "stdout",
     "output_type": "stream",
     "text": [
      "dict3 =  {'Age': 10, 'Name': 10}\n"
     ]
    }
   ],
   "source": [
    "seq1 = (\"Age\",\"Name\")\n",
    "\n",
    "dict3 = {}\n",
    "dict3 = dict3.fromkeys(seq1,10)\n",
    "\n",
    "print(\"dict3 = \",dict3)"
   ]
  },
  {
   "cell_type": "markdown",
   "metadata": {},
   "source": [
    "- .get(key,default=None)"
   ]
  },
  {
   "cell_type": "code",
   "execution_count": 115,
   "metadata": {},
   "outputs": [
    {
     "name": "stdout",
     "output_type": "stream",
     "text": [
      "dict3['Title']: None\n",
      "dict3['Age']: 10\n"
     ]
    }
   ],
   "source": [
    "x = dict3.get(\"Title\")\n",
    "y = dict3.get(\"Age\")\n",
    "\n",
    "print(\"dict3['Title']:\",x)\n",
    "print(\"dict3['Age']:\",y)"
   ]
  },
  {
   "cell_type": "markdown",
   "metadata": {},
   "source": [
    "- .items()"
   ]
  },
  {
   "cell_type": "code",
   "execution_count": 116,
   "metadata": {},
   "outputs": [
    {
     "name": "stdout",
     "output_type": "stream",
     "text": [
      "(('Title', '1984'), ('pagesize', 229))\n"
     ]
    }
   ],
   "source": [
    "x = dict1.items()\n",
    "x = tuple(x)\n",
    "print(x)"
   ]
  },
  {
   "cell_type": "markdown",
   "metadata": {},
   "source": [
    "- .keys()"
   ]
  },
  {
   "cell_type": "code",
   "execution_count": 117,
   "metadata": {},
   "outputs": [
    {
     "name": "stdout",
     "output_type": "stream",
     "text": [
      "('Title', 'pagesize')\n"
     ]
    }
   ],
   "source": [
    "y = dict1.keys()\n",
    "y = tuple(y)\n",
    "print(y)"
   ]
  },
  {
   "cell_type": "markdown",
   "metadata": {},
   "source": [
    "- .values()"
   ]
  },
  {
   "cell_type": "code",
   "execution_count": 118,
   "metadata": {},
   "outputs": [
    {
     "name": "stdout",
     "output_type": "stream",
     "text": [
      "('1984', 229)\n"
     ]
    }
   ],
   "source": [
    "y = dict1.values()\n",
    "y = tuple(y)\n",
    "print(y)"
   ]
  },
  {
   "cell_type": "markdown",
   "metadata": {},
   "source": [
    "- .setdefault(key,default=None)"
   ]
  },
  {
   "cell_type": "code",
   "execution_count": 119,
   "metadata": {},
   "outputs": [
    {
     "name": "stdout",
     "output_type": "stream",
     "text": [
      "dict1 =  {'Title': '1984', 'pagesize': 229}\n",
      "dict1['Publish time']: 1900s\n",
      "dict1 =  {'Title': '1984', 'pagesize': 229, 'Publish time': '1900s'}\n"
     ]
    }
   ],
   "source": [
    "print(\"dict1 = \",dict1)\n",
    "\n",
    "x = dict1.setdefault(\"Publish time\",\"1900s\")\n",
    "\n",
    "print(\"dict1['Publish time']:\",x)\n",
    "\n",
    "print(\"dict1 = \",dict1)"
   ]
  },
  {
   "cell_type": "markdown",
   "metadata": {},
   "source": [
    "- .update(dict)"
   ]
  },
  {
   "cell_type": "code",
   "execution_count": 120,
   "metadata": {},
   "outputs": [
    {
     "name": "stdout",
     "output_type": "stream",
     "text": [
      "dict1 =  {'Title': '1984', 'pagesize': 229, 'Publish time': '1900s'}\n",
      "dict2 =  {'Age': 10, 'Name': 10}\n",
      "updated dict1 =  {'Title': '1984', 'pagesize': 229, 'Publish time': '1900s', 'Age': 10, 'Name': 10}\n"
     ]
    }
   ],
   "source": [
    "print(\"dict1 = \",dict1)\n",
    "print(\"dict2 = \",dict3)\n",
    "\n",
    "dict1.update(dict3)\n",
    "\n",
    "print(\"updated dict1 = \",dict1)"
   ]
  }
 ],
 "metadata": {
  "kernelspec": {
   "display_name": "Python 3",
   "language": "python",
   "name": "python3"
  },
  "language_info": {
   "codemirror_mode": {
    "name": "ipython",
    "version": 3
   },
   "file_extension": ".py",
   "mimetype": "text/x-python",
   "name": "python",
   "nbconvert_exporter": "python",
   "pygments_lexer": "ipython3",
   "version": "3.8.3"
  }
 },
 "nbformat": 4,
 "nbformat_minor": 4
}
